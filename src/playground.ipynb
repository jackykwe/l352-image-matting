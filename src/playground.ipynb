{
 "cells": [
  {
   "cell_type": "code",
   "execution_count": 1,
   "metadata": {},
   "outputs": [
    {
     "name": "stderr",
     "output_type": "stream",
     "text": [
      "/home/jacky/Documents/part-iii/III Notes/src/L352-AGIP/project/l352-image-matting/matting/lib/python3.11/site-packages/tqdm/auto.py:21: TqdmWarning: IProgress not found. Please update jupyter and ipywidgets. See https://ipywidgets.readthedocs.io/en/stable/user_install.html\n",
      "  from .autonotebook import tqdm as notebook_tqdm\n"
     ]
    }
   ],
   "source": [
    "import os\n",
    "import time\n",
    "\n",
    "import matplotlib.pyplot as plt\n",
    "import numpy as np\n",
    "import scipy as sp\n",
    "import scipy.sparse as sparse\n",
    "# import skimage\n",
    "# import skimage.filters as filters\n",
    "import skimage\n",
    "from scipy import ndimage, signal\n",
    "from scipy.interpolate import interp1d\n",
    "# from skimage import color, util\n",
    "# from skimage.util import img_as_uint\n",
    "from sksparse.cholmod import cholesky\n",
    "\n",
    "# # Closed-Form Scribble UI\n",
    "# import tkinter\n",
    "# from tkinter import ttk\n",
    "\n",
    "from tqdm.auto import tqdm\n",
    "import numba as nb"
   ]
  },
  {
   "cell_type": "code",
   "execution_count": 2,
   "metadata": {},
   "outputs": [],
   "source": [
    "image_name = \"GT01.png\"\n",
    "image_path = os.path.join(\"../datasets\", \"input_training_lowres\", image_name)\n",
    "im = skimage.io.imread(image_path)"
   ]
  },
  {
   "cell_type": "code",
   "execution_count": 3,
   "metadata": {},
   "outputs": [],
   "source": [
    "H, W, C = im.shape  # dim 0: rows. dim 1: cols. dim 2: colours."
   ]
  },
  {
   "cell_type": "markdown",
   "metadata": {},
   "source": [
    "# UI Trial. \n",
    "You know what. Just manual. This is taking too much time."
   ]
  },
  {
   "cell_type": "code",
   "execution_count": null,
   "metadata": {},
   "outputs": [],
   "source": [
    "# References:\n",
    "# - https://pycad.co/how-to-draw-on-an-image/\n",
    "# - https://tkdocs.com/tutorial/canvas.html\n",
    "root = tkinter.Tk()\n",
    "root.title(\"Scribble\")\n",
    "root.resizable(False, False)\n",
    "# root.geometry(f\"{W}x{H}\")  # in tkinter, x is width, y is height\n",
    "mainframe = ttk.Frame(root, padding=\"3 3 12 120\")\n",
    "mainframe.grid(column=0, row=0, sticky=\"NSEW\")\n",
    "\n",
    "# canvas = tkinter.Canvas(root, bg=\"black\")\n",
    "# canvas.pack(anchor=\"nw\", fill=\"both\", expand=True)\n",
    "\n",
    "class Sketchpad(tkinter.Canvas):\n",
    "    def __init__(self, parent, **kwargs):\n",
    "        super().__init__(parent, **kwargs)\n",
    "        self.bind(\"<Button-1>\", self.save_position)\n",
    "        self.bind(\"<ButtonRelease-1>\", self.letgo)\n",
    "        self.bind(\"<B1-Motion>\", self.add_line)\n",
    "        self.last_x = None\n",
    "        self.last_y = None\n",
    "        self.ink_colour = \"white\"\n",
    "        self.ink_colour_text = tkinter.StringVar(parent, \"Drawing: Foreground\")\n",
    "        self.ink_size = tkinter.IntVar(parent, 10)\n",
    "        # self.ink_size_text = tkinter.StringVar(parent, f\"Ink Size: {self.ink_size}\")\n",
    "\n",
    "    def set_ink_colour(self, colour):\n",
    "        if colour == \"white\":\n",
    "            self.ink_colour_text.set(\"Drawing: Foreground\")\n",
    "        elif colour == \"black\":\n",
    "            self.ink_colour_text.set(\"Drawing: Background\")\n",
    "        else:\n",
    "            raise NotImplementedError\n",
    "        self.ink_colour = colour\n",
    "\n",
    "    # def set_ink_size(self,)\n",
    "\n",
    "    def save_position(self, event):\n",
    "        self.last_x, self.last_y = event.x, event.y\n",
    "\n",
    "    def add_line(self, event):\n",
    "        self.create_line(\n",
    "            (self.last_x, self.last_y, event.x, event.y),\n",
    "            fill=self.ink_colour,\n",
    "            width=self.ink_size.get()\n",
    "        )\n",
    "        self.save_position(event)\n",
    "\n",
    "    def letgo(self, _):\n",
    "        all_segment_ids = self.find_all()\n",
    "        all_segments = []\n",
    "        for isegment in range(len(all_segment_ids)):\n",
    "            all_segments.append(self.coords(isegment))\n",
    "        print(all_segments)\n",
    "\n",
    "\n",
    "# image_view = tkinter.Canvas(mainframe, height=H, width=W)\n",
    "# image_view.create_image(0, 0, image=tkinter_image, anchor=\"nw\")\n",
    "# image_view.grid(row=0, column=0, columnspan=3, sticky=\"NW\")\n",
    "\n",
    "tkinter_image = tkinter.PhotoImage(master=root, file=image_path)\n",
    "canvas = Sketchpad(mainframe, width=W, height=H)\n",
    "canvas.create_image(0, 0, image=tkinter_image, anchor=\"nw\")\n",
    "canvas.grid(column=0, row=0, columnspan=3, sticky=\"NW\")\n",
    "\n",
    "ink_colour_text = ttk.Label(mainframe, textvariable=canvas.ink_colour_text)\n",
    "ink_colour_text.grid(row=1, column=0)\n",
    "foreground_button = ttk.Button(mainframe, text=\"Foreground\", command=lambda: canvas.set_ink_colour(\"white\"))\n",
    "foreground_button.grid(row=1, column=1)\n",
    "background_button = ttk.Button(mainframe, text=\"Background\", command=lambda: canvas.set_ink_colour(\"black\"))\n",
    "background_button.grid(row=1, column=2)\n",
    "\n",
    "ink_size_text = ttk.Label(mainframe, textvariable=canvas.ink_size)\n",
    "ink_size_text.grid(row=2, column=0)\n",
    "ink_size_slider = ttk.Scale(mainframe, from_=1, to=100, variable=canvas.ink_size, orient=\"horizontal\")\n",
    "ink_size_slider.grid(row=2, column=1, columnspan=2, sticky=\"EW\")\n",
    "\n",
    "\n",
    "# unknown_button = ttk.Button(mainframe, text='Okay', command=lambda: print(\"fuck\"))\n",
    "\n",
    "\n",
    "\n",
    "# canvas.create_image(0, 0, image=tkinter_image, anchor=\"nw\")\n",
    "# canvas.bind(\"<Button-1>\", save_position)\n",
    "# canvas.bind(\"<B1-Motion>\", functools.partial(add_line, canvas))\n",
    "\n",
    "# # ttk.Label(frm, text=\"Hello World!\").grid(column=0, row=0)\n",
    "# ttk.Button(frm, text=\"Quit\", command=root.destroy).grid(column=1, row=0)\n",
    "root.mainloop()"
   ]
  },
  {
   "cell_type": "code",
   "execution_count": null,
   "metadata": {},
   "outputs": [],
   "source": [
    "\n",
    "# plt.axis('off')\n",
    "skimage.io.imshow(im)\n",
    "plt.show()"
   ]
  },
  {
   "cell_type": "code",
   "execution_count": null,
   "metadata": {},
   "outputs": [],
   "source": [
    "im.shape"
   ]
  },
  {
   "cell_type": "code",
   "execution_count": null,
   "metadata": {},
   "outputs": [],
   "source": []
  },
  {
   "cell_type": "code",
   "execution_count": null,
   "metadata": {},
   "outputs": [],
   "source": []
  },
  {
   "cell_type": "markdown",
   "metadata": {},
   "source": [
    "# Main"
   ]
  },
  {
   "cell_type": "code",
   "execution_count": 20,
   "metadata": {},
   "outputs": [
    {
     "name": "stderr",
     "output_type": "stream",
     "text": [
      "100%|██████████| 397600/397600 [00:01<00:00, 254486.41it/s]\n"
     ]
    },
    {
     "data": {
      "text/plain": [
       "array([[ 47.22222222,  51.        ,  65.66666667],\n",
       "       [ 70.77777778,  76.66666667,  99.22222222],\n",
       "       [ 70.77777778,  77.33333333, 100.66666667],\n",
       "       [ 71.22222222,  77.77777778, 102.        ],\n",
       "       [ 71.88888889,  78.44444444, 103.        ],\n",
       "       [ 72.22222222,  79.        , 103.88888889],\n",
       "       [ 72.22222222,  79.66666667, 104.55555556],\n",
       "       [ 72.22222222,  80.22222222, 105.33333333],\n",
       "       [ 72.22222222,  80.66666667, 105.88888889],\n",
       "       [ 72.44444444,  80.88888889, 106.55555556]])"
      ]
     },
     "execution_count": 20,
     "metadata": {},
     "output_type": "execute_result"
    }
   ],
   "source": [
    "# im  # dim 0: rows. dim 1: cols. dim 2: colours.\n",
    "# im = im.reshape(-1, 3)  # row-major traversal of image\n",
    "# im\n",
    "\n",
    "M = 3  # window size\n",
    "assert M % 2 != 0, f\"Window size M should be even, got {M}\"\n",
    "pad_amount = (M - 1) // 2\n",
    "zero_padded_im = np.zeros((H + pad_amount * 2, W + pad_amount * 2, 3))\n",
    "zero_padded_im[pad_amount:-pad_amount, pad_amount:-pad_amount] = im\n",
    "zero_padded_im[:,:,0]\n",
    "\n",
    "t = np.zeros((H + pad_amount * 2, W + pad_amount * 2))\n",
    "t[pad_amount:-pad_amount, pad_amount:-pad_amount] = 1\n",
    "unpadded_to_padded_index_map = [(x, y) for x, y in zip(*t.nonzero())]\n",
    "\n",
    "neighbourhoods = []\n",
    "mu_ks = np.zeros((H * W, 3))\n",
    "Sigma_ks = np.zeros((H * W, 3, 3))\n",
    "\n",
    "# k is centre of window\n",
    "for k in tqdm(np.arange(H * W)):\n",
    "    padded_x, padded_y = unpadded_to_padded_index_map[k]\n",
    "    pixels = zero_padded_im[padded_x - pad_amount:padded_x + pad_amount + 1, padded_y - pad_amount:padded_y + pad_amount + 1]\n",
    "    neighbourhoods.append(np.copy(pixels.reshape(-1, 3)))\n",
    "\n",
    "import concurrent.futures\n",
    "# @nb.njit#(parallel=True)\n",
    "# def g():\n",
    "\n",
    "def f(pixels):\n",
    "    mu_k = np.mean(pixels, axis=0)\n",
    "    return mu_k\n",
    "    # mu_ks[k] = mu_k\n",
    "    # Sigma_k = np.cov(pixels, rowvar=False, bias=True)  # bias True to divide by M^2 instead of (M^2 - 1)\n",
    "    # Sigma_ks[k] = Sigma_k\n",
    "\n",
    "with concurrent.futures.ThreadPoolExecutor() as executor:\n",
    "    result = list(executor.map(f, neighbourhoods[:10]))\n",
    "\n",
    "np.array(result)\n"
   ]
  },
  {
   "cell_type": "code",
   "execution_count": 13,
   "metadata": {},
   "outputs": [
    {
     "data": {
      "text/plain": [
       "array([[ 47.22222222,  51.        ,  65.66666667],\n",
       "       [ 70.77777778,  76.66666667,  99.22222222],\n",
       "       [ 70.77777778,  77.33333333, 100.66666667],\n",
       "       ...,\n",
       "       [ 85.33333333,  91.66666667, 108.22222222],\n",
       "       [ 84.44444444,  90.55555556, 107.66666667],\n",
       "       [ 56.        ,  60.        ,  71.66666667]])"
      ]
     },
     "execution_count": 13,
     "metadata": {},
     "output_type": "execute_result"
    }
   ],
   "source": [
    "mu_ks"
   ]
  },
  {
   "cell_type": "code",
   "execution_count": 14,
   "metadata": {},
   "outputs": [
    {
     "data": {
      "text/plain": [
       "array([[[2787.72839506, 3010.77777778, 3876.40740741],\n",
       "        [3010.77777778, 3252.22222222, 4187.33333333],\n",
       "        [3876.40740741, 4187.33333333, 5391.55555556]],\n",
       "\n",
       "       [[2505.28395062, 2713.81481481, 3511.71604938],\n",
       "        [2713.81481481, 2940.44444444, 3805.2962963 ],\n",
       "        [3511.71604938, 3805.2962963 , 4925.72839506]],\n",
       "\n",
       "       [[2505.28395062, 2737.51851852, 3563.48148148],\n",
       "        [2737.51851852, 2991.55555556, 3893.77777778],\n",
       "        [3563.48148148, 3893.77777778, 5071.11111111]],\n",
       "\n",
       "       ...,\n",
       "\n",
       "       [[3641.11111111, 3911.11111111, 4617.7037037 ],\n",
       "        [3911.11111111, 4201.55555556, 4960.18518519],\n",
       "        [4617.7037037 , 4960.18518519, 5857.50617284]],\n",
       "\n",
       "       [[3568.24691358, 3825.75308642, 4547.81481481],\n",
       "        [3825.75308642, 4103.13580247, 4876.96296296],\n",
       "        [4547.81481481, 4876.96296296, 5798.        ]],\n",
       "\n",
       "       [[3922.22222222, 4201.55555556, 5018.33333333],\n",
       "        [4201.55555556, 4502.        , 5376.66666667],\n",
       "        [5018.33333333, 5376.66666667, 6421.77777778]]])"
      ]
     },
     "execution_count": 14,
     "metadata": {},
     "output_type": "execute_result"
    }
   ],
   "source": [
    "Sigma_ks"
   ]
  },
  {
   "cell_type": "code",
   "execution_count": 50,
   "metadata": {},
   "outputs": [
    {
     "data": {
      "text/plain": [
       "[(0, 1),\n",
       " (0, 2),\n",
       " (0, 3),\n",
       " (0, 4),\n",
       " (1, 0),\n",
       " (1, 1),\n",
       " (1, 2),\n",
       " (1, 3),\n",
       " (1, 4),\n",
       " (2, 0),\n",
       " (2, 1),\n",
       " (2, 2),\n",
       " (2, 3),\n",
       " (2, 4),\n",
       " (3, 0),\n",
       " (3, 1),\n",
       " (3, 2),\n",
       " (3, 3),\n",
       " (3, 4),\n",
       " (4, 0),\n",
       " (4, 1),\n",
       " (4, 2),\n",
       " (4, 3),\n",
       " (4, 4)]"
      ]
     },
     "execution_count": 50,
     "metadata": {},
     "output_type": "execute_result"
    }
   ],
   "source": [
    "t = np.arange(25).reshape(5,5)\n",
    "[(a,b) for a,b in zip(*np.nonzero(t))]"
   ]
  },
  {
   "cell_type": "code",
   "execution_count": 7,
   "metadata": {},
   "outputs": [
    {
     "data": {
      "text/plain": [
       "array([[[ 0,  1,  2],\n",
       "        [ 3,  4,  5],\n",
       "        [ 6,  7,  8],\n",
       "        [ 9, 10, 11]],\n",
       "\n",
       "       [[12, 13, 14],\n",
       "        [15, 16, 17],\n",
       "        [18, 19, 20],\n",
       "        [21, 22, 23]],\n",
       "\n",
       "       [[24, 25, 26],\n",
       "        [27, 28, 29],\n",
       "        [30, 31, 32],\n",
       "        [33, 34, 35]],\n",
       "\n",
       "       [[36, 37, 38],\n",
       "        [39, 40, 41],\n",
       "        [42, 43, 44],\n",
       "        [45, 46, 47]],\n",
       "\n",
       "       [[48, 49, 50],\n",
       "        [51, 52, 53],\n",
       "        [54, 55, 56],\n",
       "        [57, 58, 59]]])"
      ]
     },
     "execution_count": 7,
     "metadata": {},
     "output_type": "execute_result"
    }
   ],
   "source": [
    "np.arange(60).reshape((5,4,3))"
   ]
  },
  {
   "cell_type": "code",
   "execution_count": 16,
   "metadata": {},
   "outputs": [
    {
     "data": {
      "text/plain": [
       "array([[ 0,  1,  2],\n",
       "       [ 3,  4,  5],\n",
       "       [ 6,  7,  8],\n",
       "       [ 9, 10, 11],\n",
       "       [12, 13, 14],\n",
       "       [15, 16, 17],\n",
       "       [18, 19, 20],\n",
       "       [21, 22, 23],\n",
       "       [24, 25, 26],\n",
       "       [27, 28, 29],\n",
       "       [30, 31, 32],\n",
       "       [33, 34, 35],\n",
       "       [36, 37, 38],\n",
       "       [39, 40, 41],\n",
       "       [42, 43, 44],\n",
       "       [45, 46, 47],\n",
       "       [48, 49, 50],\n",
       "       [51, 52, 53],\n",
       "       [54, 55, 56],\n",
       "       [57, 58, 59]])"
      ]
     },
     "execution_count": 16,
     "metadata": {},
     "output_type": "execute_result"
    }
   ],
   "source": [
    "np.arange(60).reshape((5,4,3)).reshape((20, 3))"
   ]
  }
 ],
 "metadata": {
  "kernelspec": {
   "display_name": "matting",
   "language": "python",
   "name": "python3"
  },
  "language_info": {
   "codemirror_mode": {
    "name": "ipython",
    "version": 3
   },
   "file_extension": ".py",
   "mimetype": "text/x-python",
   "name": "python",
   "nbconvert_exporter": "python",
   "pygments_lexer": "ipython3",
   "version": "3.11.6"
  }
 },
 "nbformat": 4,
 "nbformat_minor": 2
}
