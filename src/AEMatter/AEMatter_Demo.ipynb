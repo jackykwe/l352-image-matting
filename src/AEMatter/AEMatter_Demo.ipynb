{
  "cells": [
    {
      "cell_type": "markdown",
      "metadata": {},
      "source": [
        "# $\\S0$ Initial Setup\n",
        "Perform on every run."
      ]
    },
    {
      "cell_type": "code",
      "execution_count": null,
      "metadata": {
        "colab": {
          "base_uri": "https://localhost:8080/"
        },
        "id": "N-5loX4Gm6Kc",
        "outputId": "cff004ee-88cd-433c-ccf3-d4725af82c95"
      },
      "outputs": [],
      "source": [
        "from google.colab import drive\n",
        "from IPython.display import clear_output\n",
        "drive.mount(\"/content/gdrive\")"
      ]
    },
    {
      "cell_type": "code",
      "execution_count": null,
      "metadata": {
        "id": "hVRvgZq1m-uX"
      },
      "outputs": [],
      "source": [
        "PROJ_DIR = \"/content/gdrive/MyDrive/L352-Project/Matting\"\n",
        "!mkdir -p {PROJ_DIR}"
      ]
    },
    {
      "cell_type": "code",
      "execution_count": null,
      "metadata": {
        "colab": {
          "base_uri": "https://localhost:8080/"
        },
        "id": "9Y0Up_76UQAp",
        "outputId": "b5968c25-99b4-4418-cda6-b58acf90b91a"
      },
      "outputs": [],
      "source": [
        "!nvidia-smi"
      ]
    },
    {
      "cell_type": "markdown",
      "metadata": {},
      "source": [
        "# $\\S1$ AEMatter"
      ]
    },
    {
      "cell_type": "markdown",
      "metadata": {},
      "source": [
        "## $\\S1.0$ One-off Setup\n",
        "Clone AEMatter repository and do some minor cleanup."
      ]
    },
    {
      "cell_type": "code",
      "execution_count": null,
      "metadata": {
        "colab": {
          "base_uri": "https://localhost:8080/"
        },
        "id": "ZhpU_bifktVT",
        "outputId": "734cdfad-fc95-4068-81e6-a14a4936cd3d"
      },
      "outputs": [],
      "source": [
        "# Do only once\n",
        "!cd {PROJ_DIR} && git clone https://github.com/QLYoo/AEMatter.git\n",
        "!cd {PROJ_DIR}/AEMatter && cp eval.py eval.py.bak"
      ]
    },
    {
      "cell_type": "code",
      "execution_count": null,
      "metadata": {
        "id": "4--Yj24sQxAG"
      },
      "outputs": [],
      "source": [
        "# Do only once\n",
        "%%bash -s $PROJ_DIR\n",
        "cd \"$1/AEMatter\" && mkdir -p trimaps images\n",
        "cd \"$1/AEMatter\" && cat << EOF > eval.py\n",
        "import os\n",
        "import cv2\n",
        "import numpy as np\n",
        "import torch\n",
        "import model\n",
        "import time\n",
        "\n",
        "ptrimap='./trimaps/'\n",
        "pimgs='./images/'\n",
        "p_outs='./alphas/'\n",
        "\n",
        "os.makedirs(p_outs,exist_ok=True)\n",
        "\n",
        "if __name__ == '__main__':\n",
        "    matmodel = model.AEMatter()\n",
        "    matmodel.load_state_dict(torch.load('./AEMFIX.ckpt',map_location='cpu')['model'])\n",
        "    matmodel=matmodel.cuda()\n",
        "    matmodel.eval()\n",
        "    with open(\"lowres-aematter-timings.txt\", \"a\") as f:\n",
        "        f.write(f\"image_name,time_taken\\n\")\n",
        "    for idx,file in enumerate(os.listdir(ptrimap)) :\n",
        "        print(idx)\n",
        "        start = time.time_ns()\n",
        "        rawimg=pimgs+file\n",
        "        trimap=ptrimap+file\n",
        "        rawimg=cv2.imread(rawimg)\n",
        "        trimap=cv2.imread(trimap,cv2.IMREAD_GRAYSCALE)\n",
        "        trimap_nonp=trimap.copy()\n",
        "        h,w,c=rawimg.shape\n",
        "        nonph,nonpw,_=rawimg.shape\n",
        "        newh= (((h-1)//32)+1)*32\n",
        "        neww= (((w-1)//32)+1)*32\n",
        "        padh=newh-h\n",
        "        padh1=int(padh/2)\n",
        "        padh2=padh-padh1\n",
        "        padw=neww-w\n",
        "        padw1=int(padw/2)\n",
        "        padw2=padw-padw1\n",
        "        rawimg_pad=cv2.copyMakeBorder(rawimg,padh1,padh2,padw1,padw2,cv2.BORDER_REFLECT)\n",
        "        trimap_pad=cv2.copyMakeBorder(trimap,padh1,padh2,padw1,padw2,cv2.BORDER_REFLECT)\n",
        "        h_pad,w_pad,_=rawimg_pad.shape\n",
        "        tritemp = np.zeros([*trimap_pad.shape, 3], np.float32)\n",
        "        tritemp[:, :, 0] = (trimap_pad == 0)\n",
        "        tritemp[:, :, 1] = (trimap_pad == 128)\n",
        "        tritemp[:, :, 2] = (trimap_pad == 255)\n",
        "        tritempimgs=np.transpose(tritemp,(2,0,1))\n",
        "        tritempimgs=tritempimgs[np.newaxis,:,:,:]\n",
        "        img=np.transpose(rawimg_pad,(2,0,1))[np.newaxis,::-1,:,:]\n",
        "        img=np.array(img,np.float32)\n",
        "        img=img/255.\n",
        "        img=torch.from_numpy(img).cuda()\n",
        "        tritempimgs=torch.from_numpy(tritempimgs).cuda()\n",
        "        with torch.no_grad():\n",
        "            pred=matmodel(img,tritempimgs)\n",
        "            pred=pred.detach().cpu().numpy()[0]\n",
        "            pred=pred[:,padh1:padh1+h,padw1:padw1+w]\n",
        "            preda=pred[0:1,]*255\n",
        "            preda=np.transpose(preda,(1,2,0))\n",
        "            preda=preda*(trimap_nonp[:,:,None]==128)+(trimap_nonp[:,:,None]==255)*255\n",
        "        preda=np.array(preda,np.uint8)\n",
        "        cv2.imwrite(p_outs+file,preda)\n",
        "        end = time.time_ns()\n",
        "        with open(\"lowres-aematter-timings.txt\", \"a\") as f:\n",
        "            f.write(f\"{file},{end - start}\\n\")\n",
        "EOF"
      ]
    },
    {
      "cell_type": "markdown",
      "metadata": {},
      "source": [
        "Go to the repository website, download the \"AEMatter\" model, save it as `AEMFIX.ckpt` and upload it into the AEMatter project folder on Google Drive, such that it appears at `./AEMFIX.ckpt` from `$PROJ_DIR`."
      ]
    },
    {
      "cell_type": "markdown",
      "metadata": {},
      "source": [
        "## $\\S1.1$ Inference\n",
        "Perform on every run."
      ]
    },
    {
      "cell_type": "code",
      "execution_count": null,
      "metadata": {
        "colab": {
          "base_uri": "https://localhost:8080/"
        },
        "id": "ARhaX2MTnY8l",
        "outputId": "051f7d93-5401-402f-be62-18d3632ed04e"
      },
      "outputs": [],
      "source": [
        "!pip -qq install timm einops"
      ]
    },
    {
      "cell_type": "code",
      "execution_count": null,
      "metadata": {
        "colab": {
          "base_uri": "https://localhost:8080/"
        },
        "id": "YGQg_v2Blj7v",
        "outputId": "5d7a51b1-c0a2-4b6a-be83-c91c9bf3e758"
      },
      "outputs": [],
      "source": [
        "!cd {PROJ_DIR}/AEMatter && python eval.py"
      ]
    }
  ],
  "metadata": {
    "accelerator": "GPU",
    "colab": {
      "gpuType": "T4",
      "provenance": []
    },
    "kernelspec": {
      "display_name": "Python 3",
      "name": "python3"
    },
    "language_info": {
      "name": "python"
    }
  },
  "nbformat": 4,
  "nbformat_minor": 0
}
